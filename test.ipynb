{
 "cells": [
  {
   "cell_type": "code",
   "execution_count": null,
   "id": "269a21a5",
   "metadata": {},
   "outputs": [],
   "source": [
    "aaaaaaa"
   ]
  },
  {
   "cell_type": "code",
   "execution_count": null,
   "id": "1c4b7cf1-5f7a-4c19-a873-35b9b6fafb1e",
   "metadata": {},
   "outputs": [],
   "source": [
    "bbbbb"
   ]
  }
 ],
 "metadata": {
  "kernelspec": {
   "display_name": "conda_python3",
   "language": "python",
   "name": "conda_python3"
  },
  "language_info": {
   "codemirror_mode": {
    "name": "ipython",
    "version": 3
   },
   "file_extension": ".py",
   "mimetype": "text/x-python",
   "name": "python",
   "nbconvert_exporter": "python",
   "pygments_lexer": "ipython3",
   "version": "3.10.8"
  }
 },
 "nbformat": 4,
 "nbformat_minor": 5
}
